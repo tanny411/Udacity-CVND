{
  "nbformat": 4,
  "nbformat_minor": 0,
  "metadata": {
    "anaconda-cloud": {},
    "kernelspec": {
      "name": "python3",
      "display_name": "Python 3"
    },
    "language_info": {
      "codemirror_mode": {
        "name": "ipython",
        "version": 3
      },
      "file_extension": ".py",
      "mimetype": "text/x-python",
      "name": "python",
      "nbconvert_exporter": "python",
      "pygments_lexer": "ipython3",
      "version": "3.6.3"
    },
    "colab": {
      "name": "2_Training.ipynb",
      "provenance": [],
      "collapsed_sections": []
    },
    "accelerator": "GPU"
  },
  "cells": [
    {
      "cell_type": "markdown",
      "metadata": {
        "id": "GmKflXuyra16",
        "colab_type": "text"
      },
      "source": [
        "## Necessary files"
      ]
    },
    {
      "cell_type": "code",
      "metadata": {
        "id": "Wz1nQV-yUPz_",
        "colab_type": "code",
        "colab": {}
      },
      "source": [
        "!git clone https://github.com/cocodataset/cocoapi.git"
      ],
      "execution_count": 0,
      "outputs": []
    },
    {
      "cell_type": "code",
      "metadata": {
        "id": "fmhFmZt7ij-p",
        "colab_type": "code",
        "colab": {}
      },
      "source": [
        "!tar -xvzf workspace-1572420406.tar.gz"
      ],
      "execution_count": 0,
      "outputs": []
    },
    {
      "cell_type": "code",
      "metadata": {
        "id": "pmWXEmNvRNdW",
        "colab_type": "code",
        "colab": {}
      },
      "source": [
        "!mv ./home/* ."
      ],
      "execution_count": 0,
      "outputs": []
    },
    {
      "cell_type": "code",
      "metadata": {
        "id": "56IiuTfuQAcs",
        "colab_type": "code",
        "colab": {}
      },
      "source": [
        "!wget http://images.cocodataset.org/annotations/annotations_trainval2014.zip"
      ],
      "execution_count": 0,
      "outputs": []
    },
    {
      "cell_type": "code",
      "metadata": {
        "id": "uEdMqeUpQvzz",
        "colab_type": "code",
        "colab": {}
      },
      "source": [
        "!unzip annotations_trainval2014.zip -d cocoapi"
      ],
      "execution_count": 0,
      "outputs": []
    },
    {
      "cell_type": "code",
      "metadata": {
        "id": "kHmrO-fVlSCS",
        "colab_type": "code",
        "colab": {}
      },
      "source": [
        "!wget http://images.cocodataset.org/zips/train2014.zip"
      ],
      "execution_count": 0,
      "outputs": []
    },
    {
      "cell_type": "code",
      "metadata": {
        "id": "iKinuVvHy7A-",
        "colab_type": "code",
        "colab": {}
      },
      "source": [
        "!mkdir ./cocoapi/images"
      ],
      "execution_count": 0,
      "outputs": []
    },
    {
      "cell_type": "code",
      "metadata": {
        "id": "rmaEJf0Or5ea",
        "colab_type": "code",
        "colab": {}
      },
      "source": [
        "!unzip train2014.zip -d cocoapi/images"
      ],
      "execution_count": 0,
      "outputs": []
    },
    {
      "cell_type": "markdown",
      "metadata": {
        "id": "btoIvz1hrLcf",
        "colab_type": "text"
      },
      "source": [
        "# Computer Vision Nanodegree\n",
        "\n",
        "## Project: Image Captioning\n",
        "\n",
        "---\n",
        "\n",
        "In this notebook, you will train your CNN-RNN model.  \n",
        "\n",
        "You are welcome and encouraged to try out many different architectures and hyperparameters when searching for a good model.\n",
        "\n",
        "This does have the potential to make the project quite messy!  Before submitting your project, make sure that you clean up:\n",
        "- the code you write in this notebook.  The notebook should describe how to train a single CNN-RNN architecture, corresponding to your final choice of hyperparameters.  You should structure the notebook so that the reviewer can replicate your results by running the code in this notebook.  \n",
        "- the output of the code cell in **Step 2**.  The output should show the output obtained when training the model from scratch.\n",
        "\n",
        "This notebook **will be graded**.  \n",
        "\n",
        "Feel free to use the links below to navigate the notebook:\n",
        "- [Step 1](#step1): Training Setup\n",
        "- [Step 2](#step2): Train your Model\n",
        "- [Step 3](#step3): (Optional) Validate your Model"
      ]
    },
    {
      "cell_type": "markdown",
      "metadata": {
        "id": "yTzNJCMvrLcj",
        "colab_type": "text"
      },
      "source": [
        "<a id='step1'></a>\n",
        "## Step 1: Training Setup\n",
        "\n",
        "In this step of the notebook, you will customize the training of your CNN-RNN model by specifying hyperparameters and setting other options that are important to the training procedure.  The values you set now will be used when training your model in **Step 2** below.\n",
        "\n",
        "You should only amend blocks of code that are preceded by a `TODO` statement.  **Any code blocks that are not preceded by a `TODO` statement should not be modified**.\n",
        "\n",
        "### Task #1\n",
        "\n",
        "Begin by setting the following variables:\n",
        "- `batch_size` - the batch size of each training batch.  It is the number of image-caption pairs used to amend the model weights in each training step. \n",
        "- `vocab_threshold` - the minimum word count threshold.  Note that a larger threshold will result in a smaller vocabulary, whereas a smaller threshold will include rarer words and result in a larger vocabulary.  \n",
        "- `vocab_from_file` - a Boolean that decides whether to load the vocabulary from file. \n",
        "- `embed_size` - the dimensionality of the image and word embeddings.  \n",
        "- `hidden_size` - the number of features in the hidden state of the RNN decoder.  \n",
        "- `num_epochs` - the number of epochs to train the model.  We recommend that you set `num_epochs=3`, but feel free to increase or decrease this number as you wish.  [This paper](https://arxiv.org/pdf/1502.03044.pdf) trained a captioning model on a single state-of-the-art GPU for 3 days, but you'll soon see that you can get reasonable results in a matter of a few hours!  (_But of course, if you want your model to compete with current research, you will have to train for much longer._)\n",
        "- `save_every` - determines how often to save the model weights.  We recommend that you set `save_every=1`, to save the model weights after each epoch.  This way, after the `i`th epoch, the encoder and decoder weights will be saved in the `models/` folder as `encoder-i.pkl` and `decoder-i.pkl`, respectively.\n",
        "- `print_every` - determines how often to print the batch loss to the Jupyter notebook while training.  Note that you **will not** observe a monotonic decrease in the loss function while training - this is perfectly fine and completely expected!  You are encouraged to keep this at its default value of `100` to avoid clogging the notebook, but feel free to change it.\n",
        "- `log_file` - the name of the text file containing - for every step - how the loss and perplexity evolved during training.\n",
        "\n",
        "If you're not sure where to begin to set some of the values above, you can peruse [this paper](https://arxiv.org/pdf/1502.03044.pdf) and [this paper](https://arxiv.org/pdf/1411.4555.pdf) for useful guidance!  **To avoid spending too long on this notebook**, you are encouraged to consult these suggested research papers to obtain a strong initial guess for which hyperparameters are likely to work best.  Then, train a single model, and proceed to the next notebook (**3_Inference.ipynb**).  If you are unhappy with your performance, you can return to this notebook to tweak the hyperparameters (and/or the architecture in **model.py**) and re-train your model.\n",
        "\n",
        "### Question 1\n",
        "\n",
        "**Question:** Describe your CNN-RNN architecture in detail.  With this architecture in mind, how did you select the values of the variables in Task 1?  If you consulted a research paper detailing a successful implementation of an image captioning model, please provide the reference.\n",
        "\n",
        "**Answer:** \n",
        "\n",
        "\n",
        "### (Optional) Task #2\n",
        "\n",
        "Note that we have provided a recommended image transform `transform_train` for pre-processing the training images, but you are welcome (and encouraged!) to modify it as you wish.  When modifying this transform, keep in mind that:\n",
        "- the images in the dataset have varying heights and widths, and \n",
        "- if using a pre-trained model, you must perform the corresponding appropriate normalization.\n",
        "\n",
        "### Question 2\n",
        "\n",
        "**Question:** How did you select the transform in `transform_train`?  If you left the transform at its provided value, why do you think that it is a good choice for your CNN architecture?\n",
        "\n",
        "**Answer:** \n",
        "\n",
        "### Task #3\n",
        "\n",
        "Next, you will specify a Python list containing the learnable parameters of the model.  For instance, if you decide to make all weights in the decoder trainable, but only want to train the weights in the embedding layer of the encoder, then you should set `params` to something like:\n",
        "```\n",
        "params = list(decoder.parameters()) + list(encoder.embed.parameters()) \n",
        "```\n",
        "\n",
        "### Question 3\n",
        "\n",
        "**Question:** How did you select the trainable parameters of your architecture?  Why do you think this is a good choice?\n",
        "\n",
        "**Answer:** \n",
        "\n",
        "### Task #4\n",
        "\n",
        "Finally, you will select an [optimizer](http://pytorch.org/docs/master/optim.html#torch.optim.Optimizer).\n",
        "\n",
        "### Question 4\n",
        "\n",
        "**Question:** How did you select the optimizer used to train your model?\n",
        "\n",
        "**Answer:** "
      ]
    },
    {
      "cell_type": "code",
      "metadata": {
        "id": "5PE_y5N6_usa",
        "colab_type": "code",
        "colab": {}
      },
      "source": [
        "import torch\n",
        "import torch.nn as nn\n",
        "import torchvision.models as models\n",
        "\n",
        "\n",
        "class EncoderCNN(nn.Module):\n",
        "    def __init__(self, embed_size):\n",
        "        super(EncoderCNN, self).__init__()\n",
        "        resnet = models.resnet50(pretrained=True)\n",
        "        for param in resnet.parameters():\n",
        "            param.requires_grad_(False)\n",
        "        \n",
        "        modules = list(resnet.children())[:-1]\n",
        "        self.resnet = nn.Sequential(*modules)\n",
        "        self.embed = nn.Linear(resnet.fc.in_features, embed_size)\n",
        "        \n",
        "    def forward(self, images):\n",
        "        features = self.resnet(images)\n",
        "        features = features.view(features.size(0), -1)\n",
        "        features = self.embed(features)\n",
        "        return features\n",
        "    \n",
        "\n",
        "class DecoderRNN(nn.Module):\n",
        "    def __init__(self, embed_size, hidden_size, vocab_size, num_layers=1, drop_prob=0.0):\n",
        "        super().__init__()\n",
        "        self.embed_size=embed_size\n",
        "        self.hidden_size=hidden_size\n",
        "        self.vocab_size=vocab_size\n",
        "        self.num_layers=num_layers\n",
        "        self.drop_prob=drop_prob\n",
        "        \n",
        "        self.embedding = nn.Embedding(vocab_size, embed_size)\n",
        "        self.lstm = nn.LSTM(embed_size, hidden_size, num_layers, dropout=drop_prob, batch_first=True)\n",
        "        self.linear_fc = nn.Linear(hidden_size, vocab_size)\n",
        "#         self.lstm_out = nn.LSTM(hidden_size, vocab_size, num_layers, dropout=drop_prob, batch_first=True)\n",
        "    \n",
        "    def forward(self, features, captions):\n",
        "        \n",
        "        # Discard the <end> word\n",
        "        captions = captions[:, :-1] \n",
        "        \n",
        "        x = self.embedding(captions)\n",
        "        features = features.unsqueeze(dim=1)\n",
        "        x = torch.cat((features,x),dim=1)\n",
        "        x,_ = self.lstm(x)\n",
        "        x = self.linear_fc(x)\n",
        "        return x\n",
        "\n",
        "    def sample(self, inputs, states=None, max_len=20):\n",
        "        \" accepts pre-processed image tensor (inputs) and returns predicted sentence (list of tensor ids of length max_len) \"\n",
        "        pass"
      ],
      "execution_count": 0,
      "outputs": []
    },
    {
      "cell_type": "code",
      "metadata": {
        "id": "0KGGsdeY-WLR",
        "colab_type": "code",
        "outputId": "f2f77eb8-e11a-4374-e221-497c6ee82430",
        "colab": {
          "base_uri": "https://localhost:8080/",
          "height": 68
        }
      },
      "source": [
        "import nltk\n",
        "nltk.download('punkt')"
      ],
      "execution_count": 9,
      "outputs": [
        {
          "output_type": "stream",
          "text": [
            "[nltk_data] Downloading package punkt to /root/nltk_data...\n",
            "[nltk_data]   Unzipping tokenizers/punkt.zip.\n"
          ],
          "name": "stdout"
        },
        {
          "output_type": "execute_result",
          "data": {
            "text/plain": [
              "True"
            ]
          },
          "metadata": {
            "tags": []
          },
          "execution_count": 9
        }
      ]
    },
    {
      "cell_type": "code",
      "metadata": {
        "id": "PdlIAODTrLcl",
        "colab_type": "code",
        "outputId": "6097edb5-4746-4841-a57e-1ee5790d6ca9",
        "colab": {
          "base_uri": "https://localhost:8080/",
          "height": 136
        }
      },
      "source": [
        "import torch\n",
        "import torch.nn as nn\n",
        "from torchvision import transforms\n",
        "from torch import optim\n",
        "import sys\n",
        "sys.path.append('cocoapi/PythonAPI')\n",
        "from pycocotools.coco import COCO\n",
        "from data_loader import get_loader\n",
        "# from model import EncoderCNN, DecoderRNN\n",
        "import math\n",
        "\n",
        "\n",
        "## TODO #1: Select appropriate values for the Python variables below.\n",
        "batch_size = 64          # batch size\n",
        "vocab_threshold = 5        # minimum word count threshold\n",
        "vocab_from_file = False    # if True, load existing vocab file\n",
        "embed_size = 512           # dimensionality of image and word embeddings\n",
        "hidden_size = 512          # number of features in hidden state of the RNN decoder\n",
        "num_epochs = 1             # number of training epochs\n",
        "save_every = 1             # determines frequency of saving model weights\n",
        "print_every = 100          # determines window for printing average loss\n",
        "log_file = 'training_log.txt'       # name of file with saved training loss and perplexity\n",
        "\n",
        "# (Optional) TODO #2: Amend the image transform below.\n",
        "transform_train = transforms.Compose([ \n",
        "    transforms.Resize(256),                          # smaller edge of image resized to 256\n",
        "    transforms.RandomCrop(224),                      # get 224x224 crop from random location\n",
        "    transforms.RandomHorizontalFlip(),               # horizontally flip image with probability=0.5\n",
        "    transforms.RandomRotation(5),\n",
        "    transforms.ToTensor(),                           # convert the PIL Image to a tensor\n",
        "    transforms.Normalize((0.485, 0.456, 0.406),      # normalize image for pre-trained model\n",
        "                         (0.229, 0.224, 0.225))])\n",
        "\n",
        "# Build data loader.\n",
        "data_loader = get_loader(transform=transform_train,\n",
        "                         mode='train',\n",
        "                         batch_size=batch_size,\n",
        "                         vocab_threshold=vocab_threshold,\n",
        "                         vocab_from_file=vocab_from_file,\n",
        "                         cocoapi_loc='')\n",
        "\n",
        "# The size of the vocabulary.\n",
        "vocab_size = len(data_loader.dataset.vocab)\n",
        "\n",
        "# Initialize the encoder and decoder. \n",
        "encoder = EncoderCNN(embed_size)\n",
        "decoder = DecoderRNN(embed_size, hidden_size, vocab_size)\n",
        "\n",
        "# Move models to GPU if CUDA is available. \n",
        "device = torch.device(\"cuda\" if torch.cuda.is_available() else \"cpu\")\n",
        "encoder.to(device)\n",
        "decoder.to(device)\n",
        "\n",
        "# Define the loss function. \n",
        "criterion = nn.CrossEntropyLoss().cuda() if torch.cuda.is_available() else nn.CrossEntropyLoss()\n",
        "\n",
        "# TODO #3: Specify the learnable parameters of the model.\n",
        "params = list(decoder.parameters()) + list(encoder.embed.parameters()) \n",
        "\n",
        "# TODO #4: Define the optimizer.\n",
        "optimizer = optim.Adam(params, lr=0.001)\n",
        "\n",
        "# Set the total number of training steps per epoch.\n",
        "total_step = math.ceil(len(data_loader.dataset.caption_lengths) / data_loader.batch_sampler.batch_size)"
      ],
      "execution_count": 12,
      "outputs": [
        {
          "output_type": "stream",
          "text": [
            "Vocabulary successfully loaded from vocab.pkl file!\n",
            "loading annotations into memory...\n",
            "Done (t=0.77s)\n",
            "creating index...\n"
          ],
          "name": "stdout"
        },
        {
          "output_type": "stream",
          "text": [
            "  0%|          | 673/414113 [00:00<01:01, 6729.78it/s]"
          ],
          "name": "stderr"
        },
        {
          "output_type": "stream",
          "text": [
            "index created!\n",
            "Obtaining caption lengths...\n"
          ],
          "name": "stdout"
        },
        {
          "output_type": "stream",
          "text": [
            "100%|██████████| 414113/414113 [00:56<00:00, 7376.44it/s]\n"
          ],
          "name": "stderr"
        }
      ]
    },
    {
      "cell_type": "code",
      "metadata": {
        "id": "2tL6sL_e_KH_",
        "colab_type": "code",
        "outputId": "84380143-b43d-4805-92da-bcbbf69af023",
        "colab": {
          "base_uri": "https://localhost:8080/",
          "height": 34
        }
      },
      "source": [
        "total_step"
      ],
      "execution_count": 13,
      "outputs": [
        {
          "output_type": "execute_result",
          "data": {
            "text/plain": [
              "6471"
            ]
          },
          "metadata": {
            "tags": []
          },
          "execution_count": 13
        }
      ]
    },
    {
      "cell_type": "markdown",
      "metadata": {
        "id": "UZxuDHlWrLcs",
        "colab_type": "text"
      },
      "source": [
        "<a id='step2'></a>\n",
        "## Step 2: Train your Model\n",
        "\n",
        "Once you have executed the code cell in **Step 1**, the training procedure below should run without issue.  \n",
        "\n",
        "It is completely fine to leave the code cell below as-is without modifications to train your model.  However, if you would like to modify the code used to train the model below, you must ensure that your changes are easily parsed by your reviewer.  In other words, make sure to provide appropriate comments to describe how your code works!  \n",
        "\n",
        "You may find it useful to load saved weights to resume training.  In that case, note the names of the files containing the encoder and decoder weights that you'd like to load (`encoder_file` and `decoder_file`).  Then you can load the weights by using the lines below:\n",
        "\n",
        "```python\n",
        "# Load pre-trained weights before resuming training.\n",
        "encoder.load_state_dict(torch.load(os.path.join('./models', encoder_file)))\n",
        "decoder.load_state_dict(torch.load(os.path.join('./models', decoder_file)))\n",
        "```\n",
        "\n",
        "While trying out parameters, make sure to take extensive notes and record the settings that you used in your various training runs.  In particular, you don't want to encounter a situation where you've trained a model for several hours but can't remember what settings you used :).\n",
        "\n",
        "### A Note on Tuning Hyperparameters\n",
        "\n",
        "To figure out how well your model is doing, you can look at how the training loss and perplexity evolve during training - and for the purposes of this project, you are encouraged to amend the hyperparameters based on this information.  \n",
        "\n",
        "However, this will not tell you if your model is overfitting to the training data, and, unfortunately, overfitting is a problem that is commonly encountered when training image captioning models.  \n",
        "\n",
        "For this project, you need not worry about overfitting. **This project does not have strict requirements regarding the performance of your model**, and you just need to demonstrate that your model has learned **_something_** when you generate captions on the test data.  For now, we strongly encourage you to train your model for the suggested 3 epochs without worrying about performance; then, you should immediately transition to the next notebook in the sequence (**3_Inference.ipynb**) to see how your model performs on the test data.  If your model needs to be changed, you can come back to this notebook, amend hyperparameters (if necessary), and re-train the model.\n",
        "\n",
        "That said, if you would like to go above and beyond in this project, you can read about some approaches to minimizing overfitting in section 4.3.1 of [this paper](http://ieeexplore.ieee.org/stamp/stamp.jsp?arnumber=7505636).  In the next (optional) step of this notebook, we provide some guidance for assessing the performance on the validation dataset."
      ]
    },
    {
      "cell_type": "code",
      "metadata": {
        "id": "yWUt9WblAwcg",
        "colab_type": "code",
        "colab": {}
      },
      "source": [
        "num_epochs = 3"
      ],
      "execution_count": 0,
      "outputs": []
    },
    {
      "cell_type": "code",
      "metadata": {
        "id": "mPoou-morLcu",
        "colab_type": "code",
        "outputId": "8d52ea88-9847-4ffb-b5c1-3c8b27435cb1",
        "colab": {
          "base_uri": "https://localhost:8080/",
          "height": 1000
        }
      },
      "source": [
        "import torch.utils.data as data\n",
        "import numpy as np\n",
        "import os\n",
        "import requests\n",
        "import time\n",
        "\n",
        "# Open the training log file.\n",
        "f = open(log_file, 'w')\n",
        "\n",
        "old_time = time.time()\n",
        "# response = requests.request(\"GET\", \n",
        "#                             \"http://metadata.google.internal/computeMetadata/v1/instance/attributes/keep_alive_token\", \n",
        "#                             headers={\"Metadata-Flavor\":\"Google\"})\n",
        "\n",
        "for epoch in range(1, num_epochs+1):\n",
        "    \n",
        "    for i_step in range(1, total_step+1):\n",
        "        \n",
        "        if time.time() - old_time > 60:\n",
        "            old_time = time.time()\n",
        "            # requests.request(\"POST\", \n",
        "            #                  \"https://nebula.udacity.com/api/v1/remote/keep-alive\", \n",
        "            #                  headers={'Authorization': \"STAR \" + response.text})\n",
        "        \n",
        "        # Randomly sample a caption length, and sample indices with that length.\n",
        "        indices = data_loader.dataset.get_train_indices()\n",
        "        # Create and assign a batch sampler to retrieve a batch with the sampled indices.\n",
        "        new_sampler = data.sampler.SubsetRandomSampler(indices=indices)\n",
        "        data_loader.batch_sampler.sampler = new_sampler\n",
        "        \n",
        "        # Obtain the batch.\n",
        "        images, captions = next(iter(data_loader))\n",
        "\n",
        "        # Move batch of images and captions to GPU if CUDA is available.\n",
        "        images = images.to(device)\n",
        "        captions = captions.to(device)\n",
        "        \n",
        "        # Zero the gradients.\n",
        "        decoder.zero_grad()\n",
        "        encoder.zero_grad()\n",
        "        \n",
        "        # Pass the inputs through the CNN-RNN model.\n",
        "        features = encoder(images)\n",
        "        outputs = decoder(features, captions)\n",
        "        \n",
        "        # Calculate the batch loss.\n",
        "        loss = criterion(outputs.view(-1, vocab_size), captions.view(-1))\n",
        "        \n",
        "        # Backward pass.\n",
        "        loss.backward()\n",
        "        \n",
        "        # Update the parameters in the optimizer.\n",
        "        optimizer.step()\n",
        "            \n",
        "        # Get training statistics.\n",
        "        stats = 'Epoch [%d/%d], Step [%d/%d], Loss: %.4f, Perplexity: %5.4f' % (epoch, num_epochs, i_step, total_step, loss.item(), np.exp(loss.item()))\n",
        "        \n",
        "        # Print training statistics (on same line).\n",
        "        print('\\r' + stats, end=\"\")\n",
        "        sys.stdout.flush()\n",
        "        \n",
        "        # Print training statistics to file.\n",
        "        f.write(stats + '\\n')\n",
        "        f.flush()\n",
        "        \n",
        "        # Print training statistics (on different line).\n",
        "        if i_step % print_every == 0:\n",
        "            print('\\r' + stats)\n",
        "            \n",
        "    # Save the weights.\n",
        "    if epoch % save_every == 0:\n",
        "        torch.save(decoder.state_dict(), os.path.join('./models', 'decoder-%d.pkl' % epoch))\n",
        "        torch.save(encoder.state_dict(), os.path.join('./models', 'encoder-%d.pkl' % epoch))\n",
        "\n",
        "# Close the training log file.\n",
        "f.close()"
      ],
      "execution_count": 15,
      "outputs": [
        {
          "output_type": "stream",
          "text": [
            "Epoch [1/3], Step [100/6471], Loss: 3.6683, Perplexity: 39.1851\n",
            "Epoch [1/3], Step [200/6471], Loss: 3.2327, Perplexity: 25.3474\n",
            "Epoch [1/3], Step [300/6471], Loss: 3.1959, Perplexity: 24.4314\n",
            "Epoch [1/3], Step [400/6471], Loss: 3.2381, Perplexity: 25.4846\n",
            "Epoch [1/3], Step [500/6471], Loss: 2.9258, Perplexity: 18.6484\n",
            "Epoch [1/3], Step [600/6471], Loss: 2.9321, Perplexity: 18.7661\n",
            "Epoch [1/3], Step [700/6471], Loss: 3.1843, Perplexity: 24.1502\n",
            "Epoch [1/3], Step [800/6471], Loss: 3.1872, Perplexity: 24.2199\n",
            "Epoch [1/3], Step [900/6471], Loss: 2.7384, Perplexity: 15.4620\n",
            "Epoch [1/3], Step [1000/6471], Loss: 3.1261, Perplexity: 22.7842\n",
            "Epoch [1/3], Step [1100/6471], Loss: 2.9536, Perplexity: 19.1757\n",
            "Epoch [1/3], Step [1200/6471], Loss: 2.6783, Perplexity: 14.5604\n",
            "Epoch [1/3], Step [1300/6471], Loss: 2.7107, Perplexity: 15.0395\n",
            "Epoch [1/3], Step [1400/6471], Loss: 2.9920, Perplexity: 19.9261\n",
            "Epoch [1/3], Step [1500/6471], Loss: 2.7351, Perplexity: 15.4112\n",
            "Epoch [1/3], Step [1600/6471], Loss: 2.3654, Perplexity: 10.6478\n",
            "Epoch [1/3], Step [1700/6471], Loss: 2.4987, Perplexity: 12.1662\n",
            "Epoch [1/3], Step [1800/6471], Loss: 2.5031, Perplexity: 12.2208\n",
            "Epoch [1/3], Step [1900/6471], Loss: 2.3564, Perplexity: 10.5526\n",
            "Epoch [1/3], Step [2000/6471], Loss: 2.5476, Perplexity: 12.7766\n",
            "Epoch [1/3], Step [2100/6471], Loss: 2.6821, Perplexity: 14.6151\n",
            "Epoch [1/3], Step [2200/6471], Loss: 2.6488, Perplexity: 14.1370\n",
            "Epoch [1/3], Step [2300/6471], Loss: 2.2065, Perplexity: 9.0839\n",
            "Epoch [1/3], Step [2400/6471], Loss: 2.3845, Perplexity: 10.8536\n",
            "Epoch [1/3], Step [2500/6471], Loss: 2.3058, Perplexity: 10.0320\n",
            "Epoch [1/3], Step [2600/6471], Loss: 2.2418, Perplexity: 9.4099\n",
            "Epoch [1/3], Step [2700/6471], Loss: 2.4882, Perplexity: 12.0396\n",
            "Epoch [1/3], Step [2800/6471], Loss: 2.3219, Perplexity: 10.1948\n",
            "Epoch [1/3], Step [2900/6471], Loss: 2.1306, Perplexity: 8.4197\n",
            "Epoch [1/3], Step [3000/6471], Loss: 2.3996, Perplexity: 11.0189\n",
            "Epoch [1/3], Step [3100/6471], Loss: 2.3202, Perplexity: 10.1774\n",
            "Epoch [1/3], Step [3200/6471], Loss: 2.2734, Perplexity: 9.7119\n",
            "Epoch [1/3], Step [3300/6471], Loss: 2.5102, Perplexity: 12.3079\n",
            "Epoch [1/3], Step [3400/6471], Loss: 2.0996, Perplexity: 8.1630\n",
            "Epoch [1/3], Step [3500/6471], Loss: 2.3118, Perplexity: 10.0929\n",
            "Epoch [1/3], Step [3600/6471], Loss: 2.6291, Perplexity: 13.8618\n",
            "Epoch [1/3], Step [3700/6471], Loss: 2.1948, Perplexity: 8.9779\n",
            "Epoch [1/3], Step [3800/6471], Loss: 2.2068, Perplexity: 9.0862\n",
            "Epoch [1/3], Step [3900/6471], Loss: 2.2353, Perplexity: 9.3497\n",
            "Epoch [1/3], Step [4000/6471], Loss: 2.3774, Perplexity: 10.7764\n",
            "Epoch [1/3], Step [4100/6471], Loss: 2.1756, Perplexity: 8.8077\n",
            "Epoch [1/3], Step [4200/6471], Loss: 2.2097, Perplexity: 9.1131\n",
            "Epoch [1/3], Step [4300/6471], Loss: 2.0296, Perplexity: 7.6109\n",
            "Epoch [1/3], Step [4400/6471], Loss: 2.2798, Perplexity: 9.7746\n",
            "Epoch [1/3], Step [4500/6471], Loss: 2.3422, Perplexity: 10.4039\n",
            "Epoch [1/3], Step [4600/6471], Loss: 2.1886, Perplexity: 8.9230\n",
            "Epoch [1/3], Step [4700/6471], Loss: 2.7567, Perplexity: 15.7475\n",
            "Epoch [1/3], Step [4800/6471], Loss: 2.4660, Perplexity: 11.7753\n",
            "Epoch [1/3], Step [4900/6471], Loss: 2.1170, Perplexity: 8.3058\n",
            "Epoch [1/3], Step [5000/6471], Loss: 2.2704, Perplexity: 9.6837\n",
            "Epoch [1/3], Step [5100/6471], Loss: 2.3212, Perplexity: 10.1884\n",
            "Epoch [1/3], Step [5200/6471], Loss: 2.4856, Perplexity: 12.0079\n",
            "Epoch [1/3], Step [5300/6471], Loss: 2.3631, Perplexity: 10.6234\n",
            "Epoch [1/3], Step [5400/6471], Loss: 2.2395, Perplexity: 9.3884\n",
            "Epoch [1/3], Step [5500/6471], Loss: 2.0925, Perplexity: 8.1054\n",
            "Epoch [1/3], Step [5600/6471], Loss: 2.2564, Perplexity: 9.5488\n",
            "Epoch [1/3], Step [5700/6471], Loss: 2.0274, Perplexity: 7.5941\n",
            "Epoch [1/3], Step [5800/6471], Loss: 2.1627, Perplexity: 8.6945\n",
            "Epoch [1/3], Step [5900/6471], Loss: 2.2223, Perplexity: 9.2288\n",
            "Epoch [1/3], Step [6000/6471], Loss: 2.1549, Perplexity: 8.6274\n",
            "Epoch [1/3], Step [6100/6471], Loss: 2.2303, Perplexity: 9.3026\n",
            "Epoch [1/3], Step [6200/6471], Loss: 2.0586, Perplexity: 7.8353\n",
            "Epoch [1/3], Step [6300/6471], Loss: 2.1019, Perplexity: 8.1818\n",
            "Epoch [1/3], Step [6400/6471], Loss: 2.1026, Perplexity: 8.1878\n",
            "Epoch [2/3], Step [100/6471], Loss: 2.0941, Perplexity: 8.1180\n",
            "Epoch [2/3], Step [200/6471], Loss: 2.1153, Perplexity: 8.2917\n",
            "Epoch [2/3], Step [300/6471], Loss: 2.1303, Perplexity: 8.4174\n",
            "Epoch [2/3], Step [400/6471], Loss: 1.9828, Perplexity: 7.2632\n",
            "Epoch [2/3], Step [500/6471], Loss: 2.2809, Perplexity: 9.7857\n",
            "Epoch [2/3], Step [600/6471], Loss: 2.1175, Perplexity: 8.3101\n",
            "Epoch [2/3], Step [700/6471], Loss: 2.1365, Perplexity: 8.4695\n",
            "Epoch [2/3], Step [800/6471], Loss: 2.0077, Perplexity: 7.4464\n",
            "Epoch [2/3], Step [900/6471], Loss: 2.2616, Perplexity: 9.5983\n",
            "Epoch [2/3], Step [1000/6471], Loss: 2.0423, Perplexity: 7.7087\n",
            "Epoch [2/3], Step [1100/6471], Loss: 2.5558, Perplexity: 12.8820\n",
            "Epoch [2/3], Step [1200/6471], Loss: 2.2196, Perplexity: 9.2040\n",
            "Epoch [2/3], Step [1300/6471], Loss: 2.4710, Perplexity: 11.8348\n",
            "Epoch [2/3], Step [1400/6471], Loss: 2.1523, Perplexity: 8.6047\n",
            "Epoch [2/3], Step [1500/6471], Loss: 2.0727, Perplexity: 7.9466\n",
            "Epoch [2/3], Step [1600/6471], Loss: 2.1590, Perplexity: 8.6625\n",
            "Epoch [2/3], Step [1700/6471], Loss: 2.0854, Perplexity: 8.0474\n",
            "Epoch [2/3], Step [1800/6471], Loss: 2.1542, Perplexity: 8.6214\n",
            "Epoch [2/3], Step [1900/6471], Loss: 2.2087, Perplexity: 9.1036\n",
            "Epoch [2/3], Step [2000/6471], Loss: 1.9391, Perplexity: 6.9525\n",
            "Epoch [2/3], Step [2100/6471], Loss: 2.2293, Perplexity: 9.2934\n",
            "Epoch [2/3], Step [2200/6471], Loss: 2.0132, Perplexity: 7.4869\n",
            "Epoch [2/3], Step [2300/6471], Loss: 2.1275, Perplexity: 8.3939\n",
            "Epoch [2/3], Step [2400/6471], Loss: 2.1698, Perplexity: 8.7564\n",
            "Epoch [2/3], Step [2500/6471], Loss: 2.1232, Perplexity: 8.3578\n",
            "Epoch [2/3], Step [2600/6471], Loss: 1.9636, Perplexity: 7.1248\n",
            "Epoch [2/3], Step [2700/6471], Loss: 2.1387, Perplexity: 8.4887\n",
            "Epoch [2/3], Step [2800/6471], Loss: 1.8804, Perplexity: 6.5560\n",
            "Epoch [2/3], Step [2900/6471], Loss: 2.0947, Perplexity: 8.1234\n",
            "Epoch [2/3], Step [3000/6471], Loss: 2.4526, Perplexity: 11.6184\n",
            "Epoch [2/3], Step [3100/6471], Loss: 1.9913, Perplexity: 7.3248\n",
            "Epoch [2/3], Step [3200/6471], Loss: 2.0370, Perplexity: 7.6678\n",
            "Epoch [2/3], Step [3300/6471], Loss: 1.9324, Perplexity: 6.9059\n",
            "Epoch [2/3], Step [3400/6471], Loss: 2.2003, Perplexity: 9.0280\n",
            "Epoch [2/3], Step [3500/6471], Loss: 2.2239, Perplexity: 9.2429\n",
            "Epoch [2/3], Step [3600/6471], Loss: 1.9605, Perplexity: 7.1025\n",
            "Epoch [2/3], Step [3700/6471], Loss: 2.0300, Perplexity: 7.6141\n",
            "Epoch [2/3], Step [3800/6471], Loss: 2.0838, Perplexity: 8.0346\n",
            "Epoch [2/3], Step [3900/6471], Loss: 1.9710, Perplexity: 7.1775\n",
            "Epoch [2/3], Step [4000/6471], Loss: 1.9512, Perplexity: 7.0370\n",
            "Epoch [2/3], Step [4100/6471], Loss: 1.9096, Perplexity: 6.7505\n",
            "Epoch [2/3], Step [4200/6471], Loss: 2.5535, Perplexity: 12.8516\n",
            "Epoch [2/3], Step [4300/6471], Loss: 2.0685, Perplexity: 7.9131\n",
            "Epoch [2/3], Step [4400/6471], Loss: 2.3995, Perplexity: 11.0178\n",
            "Epoch [2/3], Step [4500/6471], Loss: 2.2487, Perplexity: 9.4750\n",
            "Epoch [2/3], Step [4600/6471], Loss: 2.5530, Perplexity: 12.8451\n",
            "Epoch [2/3], Step [4700/6471], Loss: 2.7428, Perplexity: 15.5312\n",
            "Epoch [2/3], Step [4800/6471], Loss: 1.9798, Perplexity: 7.2411\n",
            "Epoch [2/3], Step [4900/6471], Loss: 2.1517, Perplexity: 8.5996\n",
            "Epoch [2/3], Step [5000/6471], Loss: 2.0605, Perplexity: 7.8497\n",
            "Epoch [2/3], Step [5100/6471], Loss: 2.1093, Perplexity: 8.2422\n",
            "Epoch [2/3], Step [5200/6471], Loss: 2.0091, Perplexity: 7.4565\n",
            "Epoch [2/3], Step [5300/6471], Loss: 2.1516, Perplexity: 8.5988\n",
            "Epoch [2/3], Step [5400/6471], Loss: 2.1089, Perplexity: 8.2395\n",
            "Epoch [2/3], Step [5500/6471], Loss: 2.0705, Perplexity: 7.9290\n",
            "Epoch [2/3], Step [5600/6471], Loss: 2.1694, Perplexity: 8.7530\n",
            "Epoch [2/3], Step [5700/6471], Loss: 1.9031, Perplexity: 6.7064\n",
            "Epoch [2/3], Step [5800/6471], Loss: 2.0706, Perplexity: 7.9294\n",
            "Epoch [2/3], Step [5900/6471], Loss: 1.9561, Perplexity: 7.0714\n",
            "Epoch [2/3], Step [6000/6471], Loss: 1.8376, Perplexity: 6.2812\n",
            "Epoch [2/3], Step [6100/6471], Loss: 2.1080, Perplexity: 8.2315\n",
            "Epoch [2/3], Step [6200/6471], Loss: 2.1574, Perplexity: 8.6485\n",
            "Epoch [2/3], Step [6300/6471], Loss: 1.8420, Perplexity: 6.3092\n",
            "Epoch [2/3], Step [6400/6471], Loss: 2.2527, Perplexity: 9.5131\n",
            "Epoch [3/3], Step [100/6471], Loss: 1.9403, Perplexity: 6.9610\n",
            "Epoch [3/3], Step [200/6471], Loss: 2.0100, Perplexity: 7.4630\n",
            "Epoch [3/3], Step [300/6471], Loss: 2.0458, Perplexity: 7.7351\n",
            "Epoch [3/3], Step [400/6471], Loss: 2.1838, Perplexity: 8.8804\n",
            "Epoch [3/3], Step [500/6471], Loss: 1.9896, Perplexity: 7.3129\n",
            "Epoch [3/3], Step [600/6471], Loss: 2.0906, Perplexity: 8.0899\n",
            "Epoch [3/3], Step [700/6471], Loss: 1.9985, Perplexity: 7.3777\n",
            "Epoch [3/3], Step [800/6471], Loss: 1.9757, Perplexity: 7.2115\n",
            "Epoch [3/3], Step [900/6471], Loss: 1.9480, Perplexity: 7.0147\n",
            "Epoch [3/3], Step [1000/6471], Loss: 1.9385, Perplexity: 6.9482\n",
            "Epoch [3/3], Step [1100/6471], Loss: 1.8965, Perplexity: 6.6622\n",
            "Epoch [3/3], Step [1200/6471], Loss: 2.0540, Perplexity: 7.7987\n",
            "Epoch [3/3], Step [1300/6471], Loss: 2.0569, Perplexity: 7.8216\n",
            "Epoch [3/3], Step [1400/6471], Loss: 2.2191, Perplexity: 9.1987\n",
            "Epoch [3/3], Step [1500/6471], Loss: 2.2183, Perplexity: 9.1917\n",
            "Epoch [3/3], Step [1600/6471], Loss: 1.8606, Perplexity: 6.4277\n",
            "Epoch [3/3], Step [1700/6471], Loss: 1.9795, Perplexity: 7.2393\n",
            "Epoch [3/3], Step [1800/6471], Loss: 2.1902, Perplexity: 8.9371\n",
            "Epoch [3/3], Step [1900/6471], Loss: 2.1385, Perplexity: 8.4864\n",
            "Epoch [3/3], Step [2000/6471], Loss: 2.4733, Perplexity: 11.8613\n",
            "Epoch [3/3], Step [2100/6471], Loss: 2.3029, Perplexity: 10.0034\n",
            "Epoch [3/3], Step [2200/6471], Loss: 1.8817, Perplexity: 6.5645\n",
            "Epoch [3/3], Step [2300/6471], Loss: 2.6956, Perplexity: 14.8145\n",
            "Epoch [3/3], Step [2400/6471], Loss: 1.9513, Perplexity: 7.0381\n",
            "Epoch [3/3], Step [2500/6471], Loss: 2.1504, Perplexity: 8.5884\n",
            "Epoch [3/3], Step [2600/6471], Loss: 2.4564, Perplexity: 11.6622\n",
            "Epoch [3/3], Step [2700/6471], Loss: 1.9720, Perplexity: 7.1848\n",
            "Epoch [3/3], Step [2800/6471], Loss: 1.8682, Perplexity: 6.4764\n",
            "Epoch [3/3], Step [2900/6471], Loss: 2.0097, Perplexity: 7.4613\n",
            "Epoch [3/3], Step [3000/6471], Loss: 2.4736, Perplexity: 11.8647\n",
            "Epoch [3/3], Step [3100/6471], Loss: 1.8429, Perplexity: 6.3151\n",
            "Epoch [3/3], Step [3200/6471], Loss: 2.2857, Perplexity: 9.8328\n",
            "Epoch [3/3], Step [3300/6471], Loss: 1.9285, Perplexity: 6.8789\n",
            "Epoch [3/3], Step [3400/6471], Loss: 1.9688, Perplexity: 7.1618\n",
            "Epoch [3/3], Step [3500/6471], Loss: 1.9497, Perplexity: 7.0263\n",
            "Epoch [3/3], Step [3600/6471], Loss: 2.2636, Perplexity: 9.6178\n",
            "Epoch [3/3], Step [3700/6471], Loss: 2.2260, Perplexity: 9.2632\n",
            "Epoch [3/3], Step [3800/6471], Loss: 1.9957, Perplexity: 7.3576\n",
            "Epoch [3/3], Step [3900/6471], Loss: 1.8744, Perplexity: 6.5167\n",
            "Epoch [3/3], Step [4000/6471], Loss: 2.1518, Perplexity: 8.6006\n",
            "Epoch [3/3], Step [4100/6471], Loss: 2.1314, Perplexity: 8.4265\n",
            "Epoch [3/3], Step [4200/6471], Loss: 1.8372, Perplexity: 6.2792\n",
            "Epoch [3/3], Step [4300/6471], Loss: 1.9019, Perplexity: 6.6983\n",
            "Epoch [3/3], Step [4400/6471], Loss: 2.0775, Perplexity: 7.9846\n",
            "Epoch [3/3], Step [4500/6471], Loss: 1.8171, Perplexity: 6.1539\n",
            "Epoch [3/3], Step [4600/6471], Loss: 2.1987, Perplexity: 9.0136\n",
            "Epoch [3/3], Step [4700/6471], Loss: 1.9103, Perplexity: 6.7554\n",
            "Epoch [3/3], Step [4800/6471], Loss: 2.2642, Perplexity: 9.6235\n",
            "Epoch [3/3], Step [4900/6471], Loss: 2.2757, Perplexity: 9.7351\n",
            "Epoch [3/3], Step [5000/6471], Loss: 1.8983, Perplexity: 6.6746\n",
            "Epoch [3/3], Step [5100/6471], Loss: 1.6473, Perplexity: 5.1929\n",
            "Epoch [3/3], Step [5200/6471], Loss: 2.0307, Perplexity: 7.6196\n",
            "Epoch [3/3], Step [5300/6471], Loss: 2.2607, Perplexity: 9.5902\n",
            "Epoch [3/3], Step [5400/6471], Loss: 1.8482, Perplexity: 6.3481\n",
            "Epoch [3/3], Step [5500/6471], Loss: 2.1910, Perplexity: 8.9441\n",
            "Epoch [3/3], Step [5600/6471], Loss: 1.7875, Perplexity: 5.9748\n",
            "Epoch [3/3], Step [5700/6471], Loss: 1.9173, Perplexity: 6.8023\n",
            "Epoch [3/3], Step [5800/6471], Loss: 1.9202, Perplexity: 6.8222\n",
            "Epoch [3/3], Step [5900/6471], Loss: 1.9953, Perplexity: 7.3547\n",
            "Epoch [3/3], Step [6000/6471], Loss: 1.8488, Perplexity: 6.3521\n",
            "Epoch [3/3], Step [6100/6471], Loss: 1.8456, Perplexity: 6.3322\n",
            "Epoch [3/3], Step [6200/6471], Loss: 1.8008, Perplexity: 6.0545\n",
            "Epoch [3/3], Step [6300/6471], Loss: 1.9789, Perplexity: 7.2349\n",
            "Epoch [3/3], Step [6400/6471], Loss: 1.8320, Perplexity: 6.2462\n",
            "Epoch [3/3], Step [6471/6471], Loss: 1.9978, Perplexity: 7.3727"
          ],
          "name": "stdout"
        }
      ]
    },
    {
      "cell_type": "markdown",
      "metadata": {
        "id": "njgSulXarLc0",
        "colab_type": "text"
      },
      "source": [
        "<a id='step3'></a>\n",
        "## Step 3: (Optional) Validate your Model\n",
        "\n",
        "To assess potential overfitting, one approach is to assess performance on a validation set.  If you decide to do this **optional** task, you are required to first complete all of the steps in the next notebook in the sequence (**3_Inference.ipynb**); as part of that notebook, you will write and test code (specifically, the `sample` method in the `DecoderRNN` class) that uses your RNN decoder to generate captions.  That code will prove incredibly useful here. \n",
        "\n",
        "If you decide to validate your model, please do not edit the data loader in **data_loader.py**.  Instead, create a new file named **data_loader_val.py** containing the code for obtaining the data loader for the validation data.  You can access:\n",
        "- the validation images at filepath `'/opt/cocoapi/images/train2014/'`, and\n",
        "- the validation image caption annotation file at filepath `'/opt/cocoapi/annotations/captions_val2014.json'`.\n",
        "\n",
        "The suggested approach to validating your model involves creating a json file such as [this one](https://github.com/cocodataset/cocoapi/blob/master/results/captions_val2014_fakecap_results.json) containing your model's predicted captions for the validation images.  Then, you can write your own script or use one that you [find online](https://github.com/tylin/coco-caption) to calculate the BLEU score of your model.  You can read more about the BLEU score, along with other evaluation metrics (such as TEOR and Cider) in section 4.1 of [this paper](https://arxiv.org/pdf/1411.4555.pdf).  For more information about how to use the annotation file, check out the [website](http://cocodataset.org/#download) for the COCO dataset."
      ]
    },
    {
      "cell_type": "code",
      "metadata": {
        "id": "7q2VBW6YrLc2",
        "colab_type": "code",
        "colab": {}
      },
      "source": [
        "# (Optional) TODO: Validate your model."
      ],
      "execution_count": 0,
      "outputs": []
    }
  ]
}