{
  "nbformat": 4,
  "nbformat_minor": 0,
  "metadata": {
    "anaconda-cloud": {},
    "kernelspec": {
      "name": "python3",
      "display_name": "Python 3"
    },
    "language_info": {
      "codemirror_mode": {
        "name": "ipython",
        "version": 3
      },
      "file_extension": ".py",
      "mimetype": "text/x-python",
      "name": "python",
      "nbconvert_exporter": "python",
      "pygments_lexer": "ipython3",
      "version": "3.6.3"
    },
    "colab": {
      "name": "2_Training.ipynb",
      "provenance": [],
      "collapsed_sections": [],
      "toc_visible": true
    },
    "accelerator": "GPU"
  },
  "cells": [
    {
      "cell_type": "markdown",
      "metadata": {
        "id": "GmKflXuyra16",
        "colab_type": "text"
      },
      "source": [
        "## Necessary files"
      ]
    },
    {
      "cell_type": "code",
      "metadata": {
        "id": "Wz1nQV-yUPz_",
        "colab_type": "code",
        "colab": {
          "base_uri": "https://localhost:8080/",
          "height": 102
        },
        "outputId": "12487a83-3b0e-4af3-f4e5-020300461040"
      },
      "source": [
        "!git clone https://github.com/cocodataset/cocoapi.git"
      ],
      "execution_count": 1,
      "outputs": [
        {
          "output_type": "stream",
          "text": [
            "Cloning into 'cocoapi'...\n",
            "remote: Enumerating objects: 959, done.\u001b[K\n",
            "Receiving objects:   0% (1/959)   \rReceiving objects:   1% (10/959)   \rReceiving objects:   2% (20/959)   \rReceiving objects:   3% (29/959)   \rReceiving objects:   4% (39/959)   \rReceiving objects:   5% (48/959)   \rReceiving objects:   6% (58/959)   \rReceiving objects:   7% (68/959)   \rReceiving objects:   8% (77/959)   \rReceiving objects:   9% (87/959)   \rReceiving objects:  10% (96/959)   \rReceiving objects:  11% (106/959)   \rReceiving objects:  12% (116/959)   \rReceiving objects:  13% (125/959)   \rReceiving objects:  14% (135/959)   \rReceiving objects:  15% (144/959)   \rReceiving objects:  16% (154/959)   \rReceiving objects:  17% (164/959)   \rReceiving objects:  18% (173/959)   \rReceiving objects:  19% (183/959)   \rReceiving objects:  20% (192/959)   \rReceiving objects:  21% (202/959)   \rReceiving objects:  22% (211/959)   \rReceiving objects:  23% (221/959)   \rReceiving objects:  24% (231/959)   \rReceiving objects:  25% (240/959)   \rReceiving objects:  26% (250/959)   \rReceiving objects:  27% (259/959)   \rReceiving objects:  28% (269/959)   \rReceiving objects:  29% (279/959)   \rReceiving objects:  30% (288/959)   \rReceiving objects:  31% (298/959)   \rReceiving objects:  32% (307/959)   \rReceiving objects:  33% (317/959)   \rReceiving objects:  34% (327/959)   \rReceiving objects:  35% (336/959)   \rReceiving objects:  36% (346/959)   \rReceiving objects:  37% (355/959)   \rReceiving objects:  38% (365/959)   \rReceiving objects:  39% (375/959)   \rReceiving objects:  40% (384/959)   \rReceiving objects:  41% (394/959)   \rReceiving objects:  42% (403/959)   \rReceiving objects:  43% (413/959)   \rReceiving objects:  44% (422/959)   \rReceiving objects:  45% (432/959)   \rReceiving objects:  46% (442/959)   \rReceiving objects:  47% (451/959)   \rReceiving objects:  48% (461/959)   \rReceiving objects:  49% (470/959)   \rReceiving objects:  50% (480/959)   \rReceiving objects:  51% (490/959)   \rReceiving objects:  52% (499/959)   \rReceiving objects:  53% (509/959)   \rReceiving objects:  54% (518/959)   \rReceiving objects:  55% (528/959)   \rReceiving objects:  56% (538/959)   \rReceiving objects:  57% (547/959)   \rReceiving objects:  58% (557/959)   \rReceiving objects:  59% (566/959)   \rReceiving objects:  60% (576/959)   \rReceiving objects:  61% (585/959)   \rReceiving objects:  62% (595/959)   \rReceiving objects:  63% (605/959)   \rReceiving objects:  64% (614/959)   \rReceiving objects:  65% (624/959)   \rReceiving objects:  66% (633/959)   \rReceiving objects:  67% (643/959)   \rReceiving objects:  68% (653/959)   \rReceiving objects:  69% (662/959)   \rReceiving objects:  70% (672/959)   \rReceiving objects:  71% (681/959)   \rReceiving objects:  72% (691/959)   \rReceiving objects:  73% (701/959)   \rReceiving objects:  74% (710/959)   \rReceiving objects:  75% (720/959)   \rReceiving objects:  76% (729/959)   \rReceiving objects:  77% (739/959)   \rReceiving objects:  78% (749/959)   \rReceiving objects:  79% (758/959)   \rReceiving objects:  80% (768/959)   \rReceiving objects:  81% (777/959)   \rReceiving objects:  82% (787/959)   \rReceiving objects:  83% (796/959)   \rReceiving objects:  84% (806/959)   \rReceiving objects:  85% (816/959)   \rReceiving objects:  86% (825/959)   \rReceiving objects:  87% (835/959)   \rReceiving objects:  88% (844/959)   \rremote: Total 959 (delta 0), reused 0 (delta 0), pack-reused 959\u001b[K\n",
            "Receiving objects: 100% (959/959), 11.69 MiB | 23.42 MiB/s, done.\n",
            "Resolving deltas: 100% (570/570), done.\n"
          ],
          "name": "stdout"
        }
      ]
    },
    {
      "cell_type": "code",
      "metadata": {
        "id": "fmhFmZt7ij-p",
        "colab_type": "code",
        "colab": {
          "base_uri": "https://localhost:8080/",
          "height": 425
        },
        "outputId": "fada1e23-366e-4fe6-b715-c186df394a2b"
      },
      "source": [
        "!tar -xvzf workspace-1572420406.tar.gz"
      ],
      "execution_count": 2,
      "outputs": [
        {
          "output_type": "stream",
          "text": [
            "./\n",
            "./home/\n",
            "./home/2_Training.ipynb\n",
            "./home/.ipynb_checkpoints/\n",
            "./home/.ipynb_checkpoints/0_Dataset-checkpoint.ipynb\n",
            "./home/.ipynb_checkpoints/2_Training-checkpoint.ipynb\n",
            "./home/.ipynb_checkpoints/3_Inference-checkpoint.ipynb\n",
            "./home/.ipynb_checkpoints/4_Zip Your Project Files and Submit-checkpoint.ipynb\n",
            "./home/.ipynb_checkpoints/1_Preliminaries-checkpoint.ipynb\n",
            "./home/0_Dataset.ipynb\n",
            "./home/model.py\n",
            "./home/vocabulary.py\n",
            "./home/4_Zip Your Project Files and Submit.ipynb\n",
            "./home/images/\n",
            "./home/images/encoder.png\n",
            "./home/images/encoder-decoder.png\n",
            "./home/images/decoder.png\n",
            "./home/images/download_ex.png\n",
            "./home/images/coco-examples.jpg\n",
            "./home/3_Inference.ipynb\n",
            "./home/1_Preliminaries.ipynb\n",
            "./home/models/\n",
            "./home/data_loader.py\n",
            "./home/filelist.txt\n"
          ],
          "name": "stdout"
        }
      ]
    },
    {
      "cell_type": "code",
      "metadata": {
        "id": "pmWXEmNvRNdW",
        "colab_type": "code",
        "colab": {}
      },
      "source": [
        "!mv ./home/* ."
      ],
      "execution_count": 0,
      "outputs": []
    },
    {
      "cell_type": "code",
      "metadata": {
        "id": "56IiuTfuQAcs",
        "colab_type": "code",
        "colab": {
          "base_uri": "https://localhost:8080/",
          "height": 204
        },
        "outputId": "c3066aa2-1684-41e1-f642-1a74ea2d535f"
      },
      "source": [
        "!wget http://images.cocodataset.org/annotations/annotations_trainval2014.zip"
      ],
      "execution_count": 4,
      "outputs": [
        {
          "output_type": "stream",
          "text": [
            "--2019-11-01 11:25:32--  http://images.cocodataset.org/annotations/annotations_trainval2014.zip\n",
            "Resolving images.cocodataset.org (images.cocodataset.org)... 52.216.102.67\n",
            "Connecting to images.cocodataset.org (images.cocodataset.org)|52.216.102.67|:80... connected.\n",
            "HTTP request sent, awaiting response... 200 OK\n",
            "Length: 252872794 (241M) [application/zip]\n",
            "Saving to: ‘annotations_trainval2014.zip’\n",
            "\n",
            "annotations_trainva 100%[===================>] 241.16M  82.3MB/s    in 2.9s    \n",
            "\n",
            "2019-11-01 11:25:35 (82.3 MB/s) - ‘annotations_trainval2014.zip’ saved [252872794/252872794]\n",
            "\n"
          ],
          "name": "stdout"
        }
      ]
    },
    {
      "cell_type": "code",
      "metadata": {
        "id": "uEdMqeUpQvzz",
        "colab_type": "code",
        "colab": {
          "base_uri": "https://localhost:8080/",
          "height": 136
        },
        "outputId": "71a40add-1da5-409b-c838-7bf02b67c7c6"
      },
      "source": [
        "!unzip annotations_trainval2014.zip -d cocoapi"
      ],
      "execution_count": 5,
      "outputs": [
        {
          "output_type": "stream",
          "text": [
            "Archive:  annotations_trainval2014.zip\n",
            "  inflating: cocoapi/annotations/instances_train2014.json  \n",
            "  inflating: cocoapi/annotations/instances_val2014.json  \n",
            "  inflating: cocoapi/annotations/person_keypoints_train2014.json  \n",
            "  inflating: cocoapi/annotations/person_keypoints_val2014.json  \n",
            "  inflating: cocoapi/annotations/captions_train2014.json  \n",
            "  inflating: cocoapi/annotations/captions_val2014.json  \n"
          ],
          "name": "stdout"
        }
      ]
    },
    {
      "cell_type": "code",
      "metadata": {
        "id": "kHmrO-fVlSCS",
        "colab_type": "code",
        "colab": {
          "base_uri": "https://localhost:8080/",
          "height": 204
        },
        "outputId": "0b459891-a23e-4b77-a949-421c898f7475"
      },
      "source": [
        "!wget http://images.cocodataset.org/zips/train2014.zip"
      ],
      "execution_count": 6,
      "outputs": [
        {
          "output_type": "stream",
          "text": [
            "--2019-11-01 11:25:46--  http://images.cocodataset.org/zips/train2014.zip\n",
            "Resolving images.cocodataset.org (images.cocodataset.org)... 52.217.37.108\n",
            "Connecting to images.cocodataset.org (images.cocodataset.org)|52.217.37.108|:80... connected.\n",
            "HTTP request sent, awaiting response... 200 OK\n",
            "Length: 13510573713 (13G) [application/zip]\n",
            "Saving to: ‘train2014.zip’\n",
            "\n",
            "train2014.zip       100%[===================>]  12.58G  58.2MB/s    in 3m 12s  \n",
            "\n",
            "2019-11-01 11:28:58 (67.0 MB/s) - ‘train2014.zip’ saved [13510573713/13510573713]\n",
            "\n"
          ],
          "name": "stdout"
        }
      ]
    },
    {
      "cell_type": "code",
      "metadata": {
        "id": "rmaEJf0Or5ea",
        "colab_type": "code",
        "colab": {}
      },
      "source": [
        "!unzip train2014.zip -d cocoapi"
      ],
      "execution_count": 0,
      "outputs": []
    },
    {
      "cell_type": "code",
      "metadata": {
        "id": "iKinuVvHy7A-",
        "colab_type": "code",
        "colab": {}
      },
      "source": [
        "!mkdir ./cocoapi/images"
      ],
      "execution_count": 0,
      "outputs": []
    },
    {
      "cell_type": "code",
      "metadata": {
        "id": "L8A-Uzv4yHZ4",
        "colab_type": "code",
        "colab": {}
      },
      "source": [
        "!mv ./cocoapi/train2014 ./cocoapi/images/train2014"
      ],
      "execution_count": 0,
      "outputs": []
    },
    {
      "cell_type": "markdown",
      "metadata": {
        "id": "btoIvz1hrLcf",
        "colab_type": "text"
      },
      "source": [
        "# Computer Vision Nanodegree\n",
        "\n",
        "## Project: Image Captioning\n",
        "\n",
        "---\n",
        "\n",
        "In this notebook, you will train your CNN-RNN model.  \n",
        "\n",
        "You are welcome and encouraged to try out many different architectures and hyperparameters when searching for a good model.\n",
        "\n",
        "This does have the potential to make the project quite messy!  Before submitting your project, make sure that you clean up:\n",
        "- the code you write in this notebook.  The notebook should describe how to train a single CNN-RNN architecture, corresponding to your final choice of hyperparameters.  You should structure the notebook so that the reviewer can replicate your results by running the code in this notebook.  \n",
        "- the output of the code cell in **Step 2**.  The output should show the output obtained when training the model from scratch.\n",
        "\n",
        "This notebook **will be graded**.  \n",
        "\n",
        "Feel free to use the links below to navigate the notebook:\n",
        "- [Step 1](#step1): Training Setup\n",
        "- [Step 2](#step2): Train your Model\n",
        "- [Step 3](#step3): (Optional) Validate your Model"
      ]
    },
    {
      "cell_type": "markdown",
      "metadata": {
        "id": "yTzNJCMvrLcj",
        "colab_type": "text"
      },
      "source": [
        "<a id='step1'></a>\n",
        "## Step 1: Training Setup\n",
        "\n",
        "In this step of the notebook, you will customize the training of your CNN-RNN model by specifying hyperparameters and setting other options that are important to the training procedure.  The values you set now will be used when training your model in **Step 2** below.\n",
        "\n",
        "You should only amend blocks of code that are preceded by a `TODO` statement.  **Any code blocks that are not preceded by a `TODO` statement should not be modified**.\n",
        "\n",
        "### Task #1\n",
        "\n",
        "Begin by setting the following variables:\n",
        "- `batch_size` - the batch size of each training batch.  It is the number of image-caption pairs used to amend the model weights in each training step. \n",
        "- `vocab_threshold` - the minimum word count threshold.  Note that a larger threshold will result in a smaller vocabulary, whereas a smaller threshold will include rarer words and result in a larger vocabulary.  \n",
        "- `vocab_from_file` - a Boolean that decides whether to load the vocabulary from file. \n",
        "- `embed_size` - the dimensionality of the image and word embeddings.  \n",
        "- `hidden_size` - the number of features in the hidden state of the RNN decoder.  \n",
        "- `num_epochs` - the number of epochs to train the model.  We recommend that you set `num_epochs=3`, but feel free to increase or decrease this number as you wish.  [This paper](https://arxiv.org/pdf/1502.03044.pdf) trained a captioning model on a single state-of-the-art GPU for 3 days, but you'll soon see that you can get reasonable results in a matter of a few hours!  (_But of course, if you want your model to compete with current research, you will have to train for much longer._)\n",
        "- `save_every` - determines how often to save the model weights.  We recommend that you set `save_every=1`, to save the model weights after each epoch.  This way, after the `i`th epoch, the encoder and decoder weights will be saved in the `models/` folder as `encoder-i.pkl` and `decoder-i.pkl`, respectively.\n",
        "- `print_every` - determines how often to print the batch loss to the Jupyter notebook while training.  Note that you **will not** observe a monotonic decrease in the loss function while training - this is perfectly fine and completely expected!  You are encouraged to keep this at its default value of `100` to avoid clogging the notebook, but feel free to change it.\n",
        "- `log_file` - the name of the text file containing - for every step - how the loss and perplexity evolved during training.\n",
        "\n",
        "If you're not sure where to begin to set some of the values above, you can peruse [this paper](https://arxiv.org/pdf/1502.03044.pdf) and [this paper](https://arxiv.org/pdf/1411.4555.pdf) for useful guidance!  **To avoid spending too long on this notebook**, you are encouraged to consult these suggested research papers to obtain a strong initial guess for which hyperparameters are likely to work best.  Then, train a single model, and proceed to the next notebook (**3_Inference.ipynb**).  If you are unhappy with your performance, you can return to this notebook to tweak the hyperparameters (and/or the architecture in **model.py**) and re-train your model.\n",
        "\n",
        "### Question 1\n",
        "\n",
        "**Question:** Describe your CNN-RNN architecture in detail.  With this architecture in mind, how did you select the values of the variables in Task 1?  If you consulted a research paper detailing a successful implementation of an image captioning model, please provide the reference.\n",
        "\n",
        "**Answer:** \n",
        "\n",
        "\n",
        "### (Optional) Task #2\n",
        "\n",
        "Note that we have provided a recommended image transform `transform_train` for pre-processing the training images, but you are welcome (and encouraged!) to modify it as you wish.  When modifying this transform, keep in mind that:\n",
        "- the images in the dataset have varying heights and widths, and \n",
        "- if using a pre-trained model, you must perform the corresponding appropriate normalization.\n",
        "\n",
        "### Question 2\n",
        "\n",
        "**Question:** How did you select the transform in `transform_train`?  If you left the transform at its provided value, why do you think that it is a good choice for your CNN architecture?\n",
        "\n",
        "**Answer:** \n",
        "\n",
        "### Task #3\n",
        "\n",
        "Next, you will specify a Python list containing the learnable parameters of the model.  For instance, if you decide to make all weights in the decoder trainable, but only want to train the weights in the embedding layer of the encoder, then you should set `params` to something like:\n",
        "```\n",
        "params = list(decoder.parameters()) + list(encoder.embed.parameters()) \n",
        "```\n",
        "\n",
        "### Question 3\n",
        "\n",
        "**Question:** How did you select the trainable parameters of your architecture?  Why do you think this is a good choice?\n",
        "\n",
        "**Answer:** \n",
        "\n",
        "### Task #4\n",
        "\n",
        "Finally, you will select an [optimizer](http://pytorch.org/docs/master/optim.html#torch.optim.Optimizer).\n",
        "\n",
        "### Question 4\n",
        "\n",
        "**Question:** How did you select the optimizer used to train your model?\n",
        "\n",
        "**Answer:** "
      ]
    },
    {
      "cell_type": "code",
      "metadata": {
        "id": "0KGGsdeY-WLR",
        "colab_type": "code",
        "colab": {
          "base_uri": "https://localhost:8080/",
          "height": 68
        },
        "outputId": "0963528d-0bee-4333-eaf7-1efbe1fa1367"
      },
      "source": [
        "import nltk\n",
        "nltk.download('punkt')"
      ],
      "execution_count": 13,
      "outputs": [
        {
          "output_type": "stream",
          "text": [
            "[nltk_data] Downloading package punkt to /root/nltk_data...\n",
            "[nltk_data]   Unzipping tokenizers/punkt.zip.\n"
          ],
          "name": "stdout"
        },
        {
          "output_type": "execute_result",
          "data": {
            "text/plain": [
              "True"
            ]
          },
          "metadata": {
            "tags": []
          },
          "execution_count": 13
        }
      ]
    },
    {
      "cell_type": "code",
      "metadata": {
        "id": "PdlIAODTrLcl",
        "colab_type": "code",
        "colab": {
          "base_uri": "https://localhost:8080/",
          "height": 326
        },
        "outputId": "c939b748-90c2-47fa-d2da-7792cb58c0d7"
      },
      "source": [
        "import torch\n",
        "import torch.nn as nn\n",
        "from torchvision import transforms\n",
        "from torch import optim\n",
        "import sys\n",
        "sys.path.append('cocoapi/PythonAPI')\n",
        "from pycocotools.coco import COCO\n",
        "from data_loader import get_loader\n",
        "from model import EncoderCNN, DecoderRNN\n",
        "import math\n",
        "\n",
        "\n",
        "## TODO #1: Select appropriate values for the Python variables below.\n",
        "batch_size = 64          # batch size\n",
        "vocab_threshold = 5        # minimum word count threshold\n",
        "vocab_from_file = False    # if True, load existing vocab file\n",
        "embed_size = 512           # dimensionality of image and word embeddings\n",
        "hidden_size = 512          # number of features in hidden state of the RNN decoder\n",
        "num_epochs = 1             # number of training epochs\n",
        "save_every = 1             # determines frequency of saving model weights\n",
        "print_every = 100          # determines window for printing average loss\n",
        "log_file = 'training_log.txt'       # name of file with saved training loss and perplexity\n",
        "\n",
        "# (Optional) TODO #2: Amend the image transform below.\n",
        "transform_train = transforms.Compose([ \n",
        "    transforms.Resize(256),                          # smaller edge of image resized to 256\n",
        "    transforms.RandomCrop(224),                      # get 224x224 crop from random location\n",
        "    transforms.RandomHorizontalFlip(),               # horizontally flip image with probability=0.5\n",
        "    transforms.RandomRotation(5),\n",
        "    transforms.ToTensor(),                           # convert the PIL Image to a tensor\n",
        "    transforms.Normalize((0.485, 0.456, 0.406),      # normalize image for pre-trained model\n",
        "                         (0.229, 0.224, 0.225))])\n",
        "\n",
        "# Build data loader.\n",
        "data_loader = get_loader(transform=transform_train,\n",
        "                         mode='train',\n",
        "                         batch_size=batch_size,\n",
        "                         vocab_threshold=vocab_threshold,\n",
        "                         vocab_from_file=vocab_from_file,\n",
        "                         cocoapi_loc='')\n",
        "\n",
        "# The size of the vocabulary.\n",
        "vocab_size = len(data_loader.dataset.vocab)\n",
        "\n",
        "# Initialize the encoder and decoder. \n",
        "encoder = EncoderCNN(embed_size)\n",
        "decoder = DecoderRNN(embed_size, hidden_size, vocab_size)\n",
        "\n",
        "# Move models to GPU if CUDA is available. \n",
        "device = torch.device(\"cuda\" if torch.cuda.is_available() else \"cpu\")\n",
        "encoder.to(device)\n",
        "decoder.to(device)\n",
        "\n",
        "# Define the loss function. \n",
        "criterion = nn.CrossEntropyLoss().cuda() if torch.cuda.is_available() else nn.CrossEntropyLoss()\n",
        "\n",
        "# TODO #3: Specify the learnable parameters of the model.\n",
        "params = list(decoder.parameters()) + list(encoder.embed.parameters()) \n",
        "\n",
        "# TODO #4: Define the optimizer.\n",
        "optimizer = optim.Adam(params, lr=0.001)\n",
        "\n",
        "# Set the total number of training steps per epoch.\n",
        "total_step = math.ceil(len(data_loader.dataset.caption_lengths) / data_loader.batch_sampler.batch_size)"
      ],
      "execution_count": 14,
      "outputs": [
        {
          "output_type": "stream",
          "text": [
            "loading annotations into memory...\n",
            "Done (t=0.89s)\n",
            "creating index...\n",
            "index created!\n",
            "[0/414113] Tokenizing captions...\n",
            "[100000/414113] Tokenizing captions...\n",
            "[200000/414113] Tokenizing captions...\n",
            "[300000/414113] Tokenizing captions...\n",
            "[400000/414113] Tokenizing captions...\n",
            "loading annotations into memory...\n",
            "Done (t=0.68s)\n",
            "creating index...\n"
          ],
          "name": "stdout"
        },
        {
          "output_type": "stream",
          "text": [
            "  0%|          | 711/414113 [00:00<00:58, 7097.28it/s]"
          ],
          "name": "stderr"
        },
        {
          "output_type": "stream",
          "text": [
            "index created!\n",
            "Obtaining caption lengths...\n"
          ],
          "name": "stdout"
        },
        {
          "output_type": "stream",
          "text": [
            "100%|██████████| 414113/414113 [00:58<00:00, 7043.82it/s]\n",
            "Downloading: \"https://download.pytorch.org/models/resnet50-19c8e357.pth\" to /root/.cache/torch/checkpoints/resnet50-19c8e357.pth\n",
            "100%|██████████| 97.8M/97.8M [00:01<00:00, 62.4MB/s]\n"
          ],
          "name": "stderr"
        }
      ]
    },
    {
      "cell_type": "code",
      "metadata": {
        "id": "2tL6sL_e_KH_",
        "colab_type": "code",
        "colab": {
          "base_uri": "https://localhost:8080/",
          "height": 34
        },
        "outputId": "3b92f08c-a343-464d-ab57-727f1ce911b3"
      },
      "source": [
        "total_step"
      ],
      "execution_count": 15,
      "outputs": [
        {
          "output_type": "execute_result",
          "data": {
            "text/plain": [
              "6471"
            ]
          },
          "metadata": {
            "tags": []
          },
          "execution_count": 15
        }
      ]
    },
    {
      "cell_type": "markdown",
      "metadata": {
        "id": "UZxuDHlWrLcs",
        "colab_type": "text"
      },
      "source": [
        "<a id='step2'></a>\n",
        "## Step 2: Train your Model\n",
        "\n",
        "Once you have executed the code cell in **Step 1**, the training procedure below should run without issue.  \n",
        "\n",
        "It is completely fine to leave the code cell below as-is without modifications to train your model.  However, if you would like to modify the code used to train the model below, you must ensure that your changes are easily parsed by your reviewer.  In other words, make sure to provide appropriate comments to describe how your code works!  \n",
        "\n",
        "You may find it useful to load saved weights to resume training.  In that case, note the names of the files containing the encoder and decoder weights that you'd like to load (`encoder_file` and `decoder_file`).  Then you can load the weights by using the lines below:\n",
        "\n",
        "```python\n",
        "# Load pre-trained weights before resuming training.\n",
        "encoder.load_state_dict(torch.load(os.path.join('./models', encoder_file)))\n",
        "decoder.load_state_dict(torch.load(os.path.join('./models', decoder_file)))\n",
        "```\n",
        "\n",
        "While trying out parameters, make sure to take extensive notes and record the settings that you used in your various training runs.  In particular, you don't want to encounter a situation where you've trained a model for several hours but can't remember what settings you used :).\n",
        "\n",
        "### A Note on Tuning Hyperparameters\n",
        "\n",
        "To figure out how well your model is doing, you can look at how the training loss and perplexity evolve during training - and for the purposes of this project, you are encouraged to amend the hyperparameters based on this information.  \n",
        "\n",
        "However, this will not tell you if your model is overfitting to the training data, and, unfortunately, overfitting is a problem that is commonly encountered when training image captioning models.  \n",
        "\n",
        "For this project, you need not worry about overfitting. **This project does not have strict requirements regarding the performance of your model**, and you just need to demonstrate that your model has learned **_something_** when you generate captions on the test data.  For now, we strongly encourage you to train your model for the suggested 3 epochs without worrying about performance; then, you should immediately transition to the next notebook in the sequence (**3_Inference.ipynb**) to see how your model performs on the test data.  If your model needs to be changed, you can come back to this notebook, amend hyperparameters (if necessary), and re-train the model.\n",
        "\n",
        "That said, if you would like to go above and beyond in this project, you can read about some approaches to minimizing overfitting in section 4.3.1 of [this paper](http://ieeexplore.ieee.org/stamp/stamp.jsp?arnumber=7505636).  In the next (optional) step of this notebook, we provide some guidance for assessing the performance on the validation dataset."
      ]
    },
    {
      "cell_type": "code",
      "metadata": {
        "id": "yWUt9WblAwcg",
        "colab_type": "code",
        "colab": {}
      },
      "source": [
        "num_epochs = 3"
      ],
      "execution_count": 0,
      "outputs": []
    },
    {
      "cell_type": "code",
      "metadata": {
        "id": "mPoou-morLcu",
        "colab_type": "code",
        "colab": {
          "base_uri": "https://localhost:8080/",
          "height": 1000
        },
        "outputId": "2b5cebca-06e2-4428-e496-8f0aa5fb3c59"
      },
      "source": [
        "import torch.utils.data as data\n",
        "import numpy as np\n",
        "import os\n",
        "import requests\n",
        "import time\n",
        "\n",
        "# Open the training log file.\n",
        "f = open(log_file, 'w')\n",
        "\n",
        "old_time = time.time()\n",
        "# response = requests.request(\"GET\", \n",
        "#                             \"http://metadata.google.internal/computeMetadata/v1/instance/attributes/keep_alive_token\", \n",
        "#                             headers={\"Metadata-Flavor\":\"Google\"})\n",
        "\n",
        "for epoch in range(1, num_epochs+1):\n",
        "    \n",
        "    for i_step in range(1, total_step+1):\n",
        "        \n",
        "        if time.time() - old_time > 60:\n",
        "            old_time = time.time()\n",
        "            # requests.request(\"POST\", \n",
        "            #                  \"https://nebula.udacity.com/api/v1/remote/keep-alive\", \n",
        "            #                  headers={'Authorization': \"STAR \" + response.text})\n",
        "        \n",
        "        # Randomly sample a caption length, and sample indices with that length.\n",
        "        indices = data_loader.dataset.get_train_indices()\n",
        "        # Create and assign a batch sampler to retrieve a batch with the sampled indices.\n",
        "        new_sampler = data.sampler.SubsetRandomSampler(indices=indices)\n",
        "        data_loader.batch_sampler.sampler = new_sampler\n",
        "        \n",
        "        # Obtain the batch.\n",
        "        images, captions = next(iter(data_loader))\n",
        "\n",
        "        # Move batch of images and captions to GPU if CUDA is available.\n",
        "        images = images.to(device)\n",
        "        captions = captions.to(device)\n",
        "        \n",
        "        # Zero the gradients.\n",
        "        decoder.zero_grad()\n",
        "        encoder.zero_grad()\n",
        "        \n",
        "        # Pass the inputs through the CNN-RNN model.\n",
        "        features = encoder(images)\n",
        "        outputs = decoder(features, captions)\n",
        "        \n",
        "        # Calculate the batch loss.\n",
        "        loss = criterion(outputs.view(-1, vocab_size), captions.view(-1))\n",
        "        \n",
        "        # Backward pass.\n",
        "        loss.backward()\n",
        "        \n",
        "        # Update the parameters in the optimizer.\n",
        "        optimizer.step()\n",
        "            \n",
        "        # Get training statistics.\n",
        "        stats = 'Epoch [%d/%d], Step [%d/%d], Loss: %.4f, Perplexity: %5.4f' % (epoch, num_epochs, i_step, total_step, loss.item(), np.exp(loss.item()))\n",
        "        \n",
        "        # Print training statistics (on same line).\n",
        "        print('\\r' + stats, end=\"\")\n",
        "        sys.stdout.flush()\n",
        "        \n",
        "        # Print training statistics to file.\n",
        "        f.write(stats + '\\n')\n",
        "        f.flush()\n",
        "        \n",
        "        # Print training statistics (on different line).\n",
        "        if i_step % print_every == 0:\n",
        "            print('\\r' + stats)\n",
        "            \n",
        "    # Save the weights.\n",
        "    if epoch % save_every == 0:\n",
        "        torch.save(decoder.state_dict(), os.path.join('./models', 'decoder-%d.pkl' % epoch))\n",
        "        torch.save(encoder.state_dict(), os.path.join('./models', 'encoder-%d.pkl' % epoch))\n",
        "\n",
        "# Close the training log file.\n",
        "f.close()"
      ],
      "execution_count": 17,
      "outputs": [
        {
          "output_type": "stream",
          "text": [
            "Epoch [1/1], Step [100/6471], Loss: 3.5993, Perplexity: 36.5741\n",
            "Epoch [1/1], Step [200/6471], Loss: 3.2009, Perplexity: 24.5548\n",
            "Epoch [1/1], Step [300/6471], Loss: 2.8859, Perplexity: 17.9203\n",
            "Epoch [1/1], Step [400/6471], Loss: 3.0298, Perplexity: 20.6937\n",
            "Epoch [1/1], Step [500/6471], Loss: 3.0074, Perplexity: 20.2350\n",
            "Epoch [1/1], Step [600/6471], Loss: 3.0907, Perplexity: 21.9916\n",
            "Epoch [1/1], Step [700/6471], Loss: 2.9427, Perplexity: 18.9668\n",
            "Epoch [1/1], Step [800/6471], Loss: 2.8924, Perplexity: 18.0365\n",
            "Epoch [1/1], Step [900/6471], Loss: 2.8768, Perplexity: 17.7571\n",
            "Epoch [1/1], Step [1000/6471], Loss: 2.7523, Perplexity: 15.6783\n",
            "Epoch [1/1], Step [1100/6471], Loss: 2.4855, Perplexity: 12.0076\n",
            "Epoch [1/1], Step [1200/6471], Loss: 3.2261, Perplexity: 25.1801\n",
            "Epoch [1/1], Step [1300/6471], Loss: 2.8188, Perplexity: 16.7561\n",
            "Epoch [1/1], Step [1400/6471], Loss: 2.7185, Perplexity: 15.1577\n",
            "Epoch [1/1], Step [1500/6471], Loss: 2.5533, Perplexity: 12.8489\n",
            "Epoch [1/1], Step [1600/6471], Loss: 2.3204, Perplexity: 10.1802\n",
            "Epoch [1/1], Step [1700/6471], Loss: 2.4491, Perplexity: 11.5774\n",
            "Epoch [1/1], Step [1800/6471], Loss: 2.4864, Perplexity: 12.0184\n",
            "Epoch [1/1], Step [1900/6471], Loss: 2.5308, Perplexity: 12.5636\n",
            "Epoch [1/1], Step [2000/6471], Loss: 3.1029, Perplexity: 22.2623\n",
            "Epoch [1/1], Step [2100/6471], Loss: 2.7286, Perplexity: 15.3110\n",
            "Epoch [1/1], Step [2200/6471], Loss: 2.2247, Perplexity: 9.2508\n",
            "Epoch [1/1], Step [2300/6471], Loss: 2.3846, Perplexity: 10.8544\n",
            "Epoch [1/1], Step [2400/6471], Loss: 2.3524, Perplexity: 10.5105\n",
            "Epoch [1/1], Step [2500/6471], Loss: 2.5325, Perplexity: 12.5850\n",
            "Epoch [1/1], Step [2600/6471], Loss: 2.3760, Perplexity: 10.7613\n",
            "Epoch [1/1], Step [2700/6471], Loss: 2.5053, Perplexity: 12.2469\n",
            "Epoch [1/1], Step [2800/6471], Loss: 2.2011, Perplexity: 9.0350\n",
            "Epoch [1/1], Step [2900/6471], Loss: 2.4284, Perplexity: 11.3407\n",
            "Epoch [1/1], Step [3000/6471], Loss: 2.4818, Perplexity: 11.9625\n",
            "Epoch [1/1], Step [3100/6471], Loss: 2.8806, Perplexity: 17.8248\n",
            "Epoch [1/1], Step [3200/6471], Loss: 2.1052, Perplexity: 8.2084\n",
            "Epoch [1/1], Step [3300/6471], Loss: 2.7721, Perplexity: 15.9917\n",
            "Epoch [1/1], Step [3400/6471], Loss: 2.1881, Perplexity: 8.9183\n",
            "Epoch [1/1], Step [3500/6471], Loss: 2.4060, Perplexity: 11.0898\n",
            "Epoch [1/1], Step [3600/6471], Loss: 2.4287, Perplexity: 11.3437\n",
            "Epoch [1/1], Step [3700/6471], Loss: 2.3524, Perplexity: 10.5104\n",
            "Epoch [1/1], Step [3800/6471], Loss: 2.1939, Perplexity: 8.9697\n",
            "Epoch [1/1], Step [3900/6471], Loss: 2.3239, Perplexity: 10.2158\n",
            "Epoch [1/1], Step [4000/6471], Loss: 2.3706, Perplexity: 10.7039\n",
            "Epoch [1/1], Step [4100/6471], Loss: 2.1790, Perplexity: 8.8372\n",
            "Epoch [1/1], Step [4200/6471], Loss: 2.1796, Perplexity: 8.8431\n",
            "Epoch [1/1], Step [4300/6471], Loss: 2.3330, Perplexity: 10.3083\n",
            "Epoch [1/1], Step [4400/6471], Loss: 2.4635, Perplexity: 11.7453\n",
            "Epoch [1/1], Step [4500/6471], Loss: 2.4191, Perplexity: 11.2358\n",
            "Epoch [1/1], Step [4600/6471], Loss: 2.3138, Perplexity: 10.1124\n",
            "Epoch [1/1], Step [4700/6471], Loss: 2.3836, Perplexity: 10.8440\n",
            "Epoch [1/1], Step [4800/6471], Loss: 2.2514, Perplexity: 9.5010\n",
            "Epoch [1/1], Step [4900/6471], Loss: 2.3230, Perplexity: 10.2058\n",
            "Epoch [1/1], Step [5000/6471], Loss: 2.1365, Perplexity: 8.4693\n",
            "Epoch [1/1], Step [5100/6471], Loss: 2.0415, Perplexity: 7.7019\n",
            "Epoch [1/1], Step [5200/6471], Loss: 2.1544, Perplexity: 8.6225\n",
            "Epoch [1/1], Step [5300/6471], Loss: 2.0004, Perplexity: 7.3923\n",
            "Epoch [1/1], Step [5400/6471], Loss: 2.2080, Perplexity: 9.0973\n",
            "Epoch [1/1], Step [5500/6471], Loss: 2.5716, Perplexity: 13.0868\n",
            "Epoch [1/1], Step [5600/6471], Loss: 2.1501, Perplexity: 8.5854\n",
            "Epoch [1/1], Step [5700/6471], Loss: 2.4472, Perplexity: 11.5555\n",
            "Epoch [1/1], Step [5800/6471], Loss: 2.1592, Perplexity: 8.6640\n",
            "Epoch [1/1], Step [5900/6471], Loss: 2.2839, Perplexity: 9.8148\n",
            "Epoch [1/1], Step [6000/6471], Loss: 2.0573, Perplexity: 7.8249\n",
            "Epoch [1/1], Step [6100/6471], Loss: 2.0748, Perplexity: 7.9628\n",
            "Epoch [1/1], Step [6200/6471], Loss: 2.2127, Perplexity: 9.1405\n",
            "Epoch [1/1], Step [6300/6471], Loss: 2.3362, Perplexity: 10.3417\n",
            "Epoch [1/1], Step [6400/6471], Loss: 2.0727, Perplexity: 7.9465\n",
            "Epoch [1/1], Step [6471/6471], Loss: 2.3174, Perplexity: 10.1491"
          ],
          "name": "stdout"
        }
      ]
    },
    {
      "cell_type": "markdown",
      "metadata": {
        "id": "njgSulXarLc0",
        "colab_type": "text"
      },
      "source": [
        "<a id='step3'></a>\n",
        "## Step 3: (Optional) Validate your Model\n",
        "\n",
        "To assess potential overfitting, one approach is to assess performance on a validation set.  If you decide to do this **optional** task, you are required to first complete all of the steps in the next notebook in the sequence (**3_Inference.ipynb**); as part of that notebook, you will write and test code (specifically, the `sample` method in the `DecoderRNN` class) that uses your RNN decoder to generate captions.  That code will prove incredibly useful here. \n",
        "\n",
        "If you decide to validate your model, please do not edit the data loader in **data_loader.py**.  Instead, create a new file named **data_loader_val.py** containing the code for obtaining the data loader for the validation data.  You can access:\n",
        "- the validation images at filepath `'/opt/cocoapi/images/train2014/'`, and\n",
        "- the validation image caption annotation file at filepath `'/opt/cocoapi/annotations/captions_val2014.json'`.\n",
        "\n",
        "The suggested approach to validating your model involves creating a json file such as [this one](https://github.com/cocodataset/cocoapi/blob/master/results/captions_val2014_fakecap_results.json) containing your model's predicted captions for the validation images.  Then, you can write your own script or use one that you [find online](https://github.com/tylin/coco-caption) to calculate the BLEU score of your model.  You can read more about the BLEU score, along with other evaluation metrics (such as TEOR and Cider) in section 4.1 of [this paper](https://arxiv.org/pdf/1411.4555.pdf).  For more information about how to use the annotation file, check out the [website](http://cocodataset.org/#download) for the COCO dataset."
      ]
    },
    {
      "cell_type": "code",
      "metadata": {
        "id": "7q2VBW6YrLc2",
        "colab_type": "code",
        "colab": {}
      },
      "source": [
        "# (Optional) TODO: Validate your model."
      ],
      "execution_count": 0,
      "outputs": []
    }
  ]
}